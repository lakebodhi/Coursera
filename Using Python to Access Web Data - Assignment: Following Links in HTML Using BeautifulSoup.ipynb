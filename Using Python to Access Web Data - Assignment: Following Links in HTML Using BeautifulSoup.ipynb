{
 "cells": [
  {
   "cell_type": "code",
   "execution_count": 16,
   "metadata": {},
   "outputs": [
    {
     "name": "stdout",
     "output_type": "stream",
     "text": [
      "Enter -  http://py4e-data.dr-chuck.net/known_by_Fikret.html\n",
      "Enter position:3\n",
      "Enter count:4\n",
      "[' http://py4e-data.dr-chuck.net/known_by_Fikret.html', 'http://py4e-data.dr-chuck.net/known_by_Montgomery.html', 'http://py4e-data.dr-chuck.net/known_by_Mhairade.html', 'http://py4e-data.dr-chuck.net/known_by_Butchi.html', 'http://py4e-data.dr-chuck.net/known_by_Anayah.html']\n"
     ]
    }
   ],
   "source": [
    "import urllib.request, urllib.parse, urllib.error\n",
    "from bs4 import BeautifulSoup\n",
    "import ssl\n",
    "\n",
    "# Ignore SSL certificate errors\n",
    "ctx = ssl.create_default_context()\n",
    "ctx.check_hostname = False\n",
    "ctx.verify_mode = ssl.CERT_NONE\n",
    "\n",
    "url = input('Enter - ')\n",
    "html = urllib.request.urlopen(url, context=ctx).read()\n",
    "soup = BeautifulSoup(html, 'html.parser')\n",
    "\n",
    "# Retrieve all of the anchor tags\n",
    "lst = list()\n",
    "result = [url]\n",
    "tags = soup('a')\n",
    "for tag in tags:\n",
    "    lst.append(tag.get('href', None))\n",
    "\n",
    "position = input('Enter position:')\n",
    "count = input('Enter count:')\n",
    "loop = (int(count) - 1)\n",
    "new_location = int(position) - 1\n",
    "\n",
    "i = 0\n",
    "while i <= int(loop):\n",
    "    url = lst[int(new_location)]\n",
    "    result.append(url)\n",
    "    html = urllib.request.urlopen(url, context = ctx).read()\n",
    "    soup = BeautifulSoup(html, 'html.parser')\n",
    "    tags = soup('a')\n",
    "    lst = list()\n",
    "    for tag in tags:\n",
    "        lst.append(tag.get('href',None))\n",
    "    i = i + 1\n",
    "print(result)"
   ]
  },
  {
   "cell_type": "code",
   "execution_count": 25,
   "metadata": {},
   "outputs": [
    {
     "name": "stdout",
     "output_type": "stream",
     "text": [
      "Enter -  http://py4e-data.dr-chuck.net/known_by_Imama.htm\n",
      "Enter position:18\n",
      "Enter count:7\n",
      "[' http://py4e-data.dr-chuck.net/known_by_Imama.htm', 'http://py4e-data.dr-chuck.net/known_by_Anneroy.html', 'http://py4e-data.dr-chuck.net/known_by_Arabella.html', 'http://py4e-data.dr-chuck.net/known_by_Steffie.html', 'http://py4e-data.dr-chuck.net/known_by_Mitchel.html', 'http://py4e-data.dr-chuck.net/known_by_Caelen.html', 'http://py4e-data.dr-chuck.net/known_by_Katrina.html', 'http://py4e-data.dr-chuck.net/known_by_Nadine.html']\n"
     ]
    }
   ],
   "source": [
    "import urllib.request, urllib.parse, urllib.error\n",
    "from bs4 import BeautifulSoup\n",
    "import ssl\n",
    "\n",
    "# Ignore SSL certificate errors\n",
    "ctx = ssl.create_default_context()\n",
    "ctx.check_hostname = False\n",
    "ctx.verify_mode = ssl.CERT_NONE\n",
    "\n",
    "url = input('Enter - ')\n",
    "html = urllib.request.urlopen(url, context=ctx).read()\n",
    "soup = BeautifulSoup(html, 'html.parser')\n",
    "\n",
    "# Retrieve all of the anchor tags\n",
    "lst = list()\n",
    "\n",
    "position = input('Enter position:')\n",
    "count = input('Enter count:')\n",
    "new_location = int(position) - 1\n",
    "result = list()\n",
    "\n",
    "i = 0\n",
    "while i <= int(count):\n",
    "    if lst != []:\n",
    "        url = lst[int(new_location)]\n",
    "    result.append(url)\n",
    "    html = urllib.request.urlopen(url, context = ctx).read()\n",
    "    soup = BeautifulSoup(html, 'html.parser')\n",
    "    tags = soup('a')\n",
    "    lst = list()\n",
    "    for tag in tags:\n",
    "        lst.append(tag.get('href',None))\n",
    "    i = i + 1\n",
    "print(result)"
   ]
  },
  {
   "cell_type": "markdown",
   "metadata": {},
   "source": [
    "#### "
   ]
  }
 ],
 "metadata": {
  "kernelspec": {
   "display_name": "Python 3",
   "language": "python",
   "name": "python3"
  },
  "language_info": {
   "codemirror_mode": {
    "name": "ipython",
    "version": 3
   },
   "file_extension": ".py",
   "mimetype": "text/x-python",
   "name": "python",
   "nbconvert_exporter": "python",
   "pygments_lexer": "ipython3",
   "version": "3.6.0"
  }
 },
 "nbformat": 4,
 "nbformat_minor": 2
}
