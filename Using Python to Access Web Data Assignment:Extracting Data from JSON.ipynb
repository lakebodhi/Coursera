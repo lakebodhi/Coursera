{
 "cells": [
  {
   "cell_type": "code",
   "execution_count": 20,
   "metadata": {
    "scrolled": true
   },
   "outputs": [
    {
     "name": "stdout",
     "output_type": "stream",
     "text": [
      "Enter location: http://py4e-data.dr-chuck.net/comments_22872.json\n",
      "Retrieving  http://py4e-data.dr-chuck.net/comments_22872.json\n",
      "Retrieved 2721 characters\n",
      "count 50\n",
      "Sum 2444\n"
     ]
    }
   ],
   "source": [
    "import urllib.request, urllib.parse, urllib.error\n",
    "import json\n",
    "\n",
    "url = input('Enter location:')\n",
    "print('Retrieving', url)\n",
    "uh = urllib.request.urlopen(url)\n",
    "data = uh.read()\n",
    "print('Retrieved',len(data),'characters')\n",
    "info = json.loads(data)\n",
    "info_Ex = info['comments']\n",
    "lst = list()\n",
    "total = 0\n",
    "for item in info_Ex:\n",
    "    lst.append(item['count'])\n",
    "    total += int(item['count'])\n",
    "print('count', len(lst))\n",
    "print('Sum', total)"
   ]
  },
  {
   "cell_type": "code",
   "execution_count": null,
   "metadata": {
    "collapsed": true
   },
   "outputs": [],
   "source": []
  }
 ],
 "metadata": {
  "kernelspec": {
   "display_name": "Python 3",
   "language": "python",
   "name": "python3"
  },
  "language_info": {
   "codemirror_mode": {
    "name": "ipython",
    "version": 3
   },
   "file_extension": ".py",
   "mimetype": "text/x-python",
   "name": "python",
   "nbconvert_exporter": "python",
   "pygments_lexer": "ipython3",
   "version": "3.6.0"
  }
 },
 "nbformat": 4,
 "nbformat_minor": 2
}
