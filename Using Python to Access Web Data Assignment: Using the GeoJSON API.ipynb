{
 "cells": [
  {
   "cell_type": "code",
   "execution_count": 31,
   "metadata": {},
   "outputs": [
    {
     "name": "stdout",
     "output_type": "stream",
     "text": [
      "Enter location: National Taiwan University\n",
      "Retrieving http://py4e-data.dr-chuck.net/geojson?address=National+Taiwan+University\n",
      "Retrieved 2027 characters\n",
      "Place id ChIJZeCKaoWpQjQRtCudwhewmcY\n"
     ]
    }
   ],
   "source": [
    "import urllib.request, urllib.parse, urllib.error\n",
    "import json\n",
    "\n",
    "# Note that Google is increasingly requiring keys\n",
    "# for this API\n",
    "serviceurl = 'http://py4e-data.dr-chuck.net/geojson?'\n",
    "\n",
    "\n",
    "address = input('Enter location: ')\n",
    "\n",
    "url = serviceurl + urllib.parse.urlencode(\n",
    "        {'address': address})\n",
    "\n",
    "print('Retrieving', url)\n",
    "uh = urllib.request.urlopen(url)\n",
    "data = uh.read().decode()\n",
    "print('Retrieved', len(data), 'characters')\n",
    "\n",
    "try:\n",
    "        js = json.loads(data)\n",
    "except:\n",
    "        js = None\n",
    "\n",
    "    \n",
    "place_id = js['results'][0]['place_id']\n",
    "print('Place id',place_id)"
   ]
  },
  {
   "cell_type": "code",
   "execution_count": null,
   "metadata": {
    "collapsed": true
   },
   "outputs": [],
   "source": []
  },
  {
   "cell_type": "code",
   "execution_count": null,
   "metadata": {
    "collapsed": true
   },
   "outputs": [],
   "source": []
  }
 ],
 "metadata": {
  "kernelspec": {
   "display_name": "Python 3",
   "language": "python",
   "name": "python3"
  },
  "language_info": {
   "codemirror_mode": {
    "name": "ipython",
    "version": 3
   },
   "file_extension": ".py",
   "mimetype": "text/x-python",
   "name": "python",
   "nbconvert_exporter": "python",
   "pygments_lexer": "ipython3",
   "version": "3.6.0"
  }
 },
 "nbformat": 4,
 "nbformat_minor": 2
}
